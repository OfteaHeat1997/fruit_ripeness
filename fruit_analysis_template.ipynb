{
 "cells": [
  {
   "cell_type": "markdown",
   "metadata": {},
   "source": [
    "# Fruit Ripeness Analysis\n",
    "\n",
    "This notebook is configured with the correct kernel for the fruit ripeness project."
   ]
  },
  {
   "cell_type": "code",
   "metadata": {
    "ExecuteTime": {
     "end_time": "2025-10-27T14:49:48.029037Z",
     "start_time": "2025-10-27T14:49:48.024194Z"
    }
   },
   "source": [
    "# Import required libraries\n",
    "import numpy as np\n",
    "import pandas as pd\n",
    "import cv2\n",
    "import matplotlib.pyplot as plt\n",
    "import tensorflow as tf\n",
    "import seaborn as sns\n",
    "from sklearn.model_selection import train_test_split\n",
    "from sklearn.metrics import classification_report, confusion_matrix\n",
    "\n",
    "print(\"All libraries imported successfully!\")\n",
    "print(f\"TensorFlow version: {tf.__version__}\")\n",
    "print(f\"OpenCV version: {cv2.__version__}\")"
   ],
   "outputs": [
    {
     "name": "stdout",
     "output_type": "stream",
     "text": [
      "All libraries imported successfully!\n",
      "TensorFlow version: 2.20.0\n",
      "OpenCV version: 4.12.0\n"
     ]
    }
   ],
   "execution_count": 12
  },
  {
   "cell_type": "code",
   "metadata": {
    "ExecuteTime": {
     "end_time": "2025-10-27T14:49:53.061050Z",
     "start_time": "2025-10-27T14:49:52.950330Z"
    }
   },
   "source": [
    "# Set up data paths\n",
    "import os\n",
    "\n",
    "# Find test directory\n",
    "def find_test_dir(root=\"data\"):\n",
    "    for dirpath, dirnames, filenames in os.walk(root):\n",
    "        if os.path.basename(dirpath).lower() == \"test\":\n",
    "            subdirs = [d for d in os.listdir(dirpath) if os.path.isdir(os.path.join(dirpath, d))]\n",
    "            if subdirs:\n",
    "                return dirpath\n",
    "    raise FileNotFoundError(\"No 'test' folder found with class subdirectories.\")\n",
    "\n",
    "test_dir = find_test_dir(\"data\")\n",
    "print(f\"Test directory: {test_dir}\")\n",
    "\n",
    "# List classes\n",
    "classes = [c for c in os.listdir(test_dir) if os.path.isdir(os.path.join(test_dir, c))]\n",
    "print(f\"Classes found: {classes}\")"
   ],
   "outputs": [
    {
     "name": "stdout",
     "output_type": "stream",
     "text": [
      "Test directory: data/fruit_ripeness_dataset/fruit_ripeness_dataset/fruit_archive/dataset/dataset/test\n",
      "Classes found: ['freshapples', 'freshbanana', 'freshoranges', 'rottenapples', 'rottenbanana', 'rottenoranges', 'unripe apple', 'unripe banana', 'unripe orange', '_clean', '_rejects']\n"
     ]
    }
   ],
   "execution_count": 13
  }
 ],
 "metadata": {
  "kernelspec": {
   "display_name": "Python 3 (ipykernel)",
   "language": "python",
   "name": "python3"
  },
  "language_info": {
   "codemirror_mode": {
    "name": "ipython",
    "version": 3
   },
   "file_extension": ".py",
   "mimetype": "text/x-python",
   "name": "python",
   "nbconvert_exporter": "python",
   "pygments_lexer": "ipython3",
   "version": "3.13.7"
  }
 },
 "nbformat": 4,
 "nbformat_minor": 4
}
